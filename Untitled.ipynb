{
 "cells": [
  {
   "cell_type": "code",
   "execution_count": 1,
   "id": "039a42e9-1756-456d-a5fd-7d1945fbd70d",
   "metadata": {},
   "outputs": [],
   "source": [
    "import geopandas as gpd\n",
    "import data_retriever as dr\n",
    "from shapely.geometry import Polygon, MultiPolygon, Point\n",
    "import numpy as np\n",
    "import openmeteo_requests\n",
    "import pandas as pd\n",
    "import requests_cache\n",
    "from retry_requests import retry\n",
    "from ipyleaflet import Map, DrawControl\n",
    "from ipyleaflet import Polygon as LeafletPolygon\n",
    "from shapely.geometry import Polygon\n",
    "import allocator"
   ]
  },
  {
   "cell_type": "code",
   "execution_count": 2,
   "id": "bf7741f5-4c58-4ef0-b822-ccf9eaa6e4fa",
   "metadata": {},
   "outputs": [],
   "source": [
    "class Allocator:\n",
    "    def __init__(self, data_retriever: dr.WeatherRetriever):\n",
    "        self.data_retriever = data_retriever\n",
    "        self.coordinates = data_retriever.coordinates\n",
    "        self.constraints = data_retriever.constraints\n",
    "        self.centroid = data_retriever.centroid\n",
    "\n",
    "    def allocate_farm(self):\n",
    "        if self.coordinates is None:\n",
    "            raise ValueError(\"No coordinates available. Please draw a polygon first.\")\n",
    "        elif self.centroid is None:\n",
    "            self.data_retriever.calculate_centroid()\n",
    "            self.centroid = self.data_retriever.centroid\n",
    "        \n",
    "        constraints_polygons = [Polygon([tuple(pt) for pt in poly]) for poly in self.constraints]\n",
    "        gdf_constraints = gpd.GeoDataFrame({'geometry': constraints_polygons}, crs=\"EPSG:4326\")\n",
    "\n",
    "        coord_polygons = [Polygon([tuple(pt) for pt in poly]) for poly in self.coordinates]\n",
    "        gdf_coord = gpd.GeoDataFrame({'geometry': coord_polygons}, crs=\"EPSG:4326\")"
   ]
  },
  {
   "cell_type": "code",
   "execution_count": 2,
   "id": "2a665bed-3590-4bcc-b409-927756d7bdfa",
   "metadata": {},
   "outputs": [],
   "source": [
    "d = dr.WeatherRetriever()\n"
   ]
  },
  {
   "cell_type": "code",
   "execution_count": 3,
   "id": "1db34d3c-818a-496b-a607-2759cd5f6ce3",
   "metadata": {},
   "outputs": [
    {
     "data": {
      "application/vnd.jupyter.widget-view+json": {
       "model_id": "c25179715df84df2b3ca5ebbf6bcbdf8",
       "version_major": 2,
       "version_minor": 0
      },
      "text/plain": [
       "Map(center=[52.52, 13.405], controls=(ZoomControl(options=['position', 'zoom_in_text', 'zoom_in_title', 'zoom_…"
      ]
     },
     "execution_count": 3,
     "metadata": {},
     "output_type": "execute_result"
    }
   ],
   "source": [
    "d.get_coordinates()"
   ]
  },
  {
   "cell_type": "code",
   "execution_count": 4,
   "id": "b738d6ee-1131-466b-a490-f75dfa249c91",
   "metadata": {},
   "outputs": [
    {
     "data": {
      "text/plain": [
       "[[[13.591118, 52.967376],\n",
       "  [13.652916, 52.982467],\n",
       "  [13.668709, 52.953933],\n",
       "  [13.571892, 52.94359],\n",
       "  [13.591118, 52.967376]]]"
      ]
     },
     "execution_count": 4,
     "metadata": {},
     "output_type": "execute_result"
    }
   ],
   "source": [
    "d.coordinates"
   ]
  },
  {
   "cell_type": "code",
   "execution_count": 5,
   "id": "8de3069b-d26c-4936-b6a8-d114422d05c4",
   "metadata": {},
   "outputs": [
    {
     "data": {
      "application/vnd.jupyter.widget-view+json": {
       "model_id": "3713aa4a85d5497e8a8c8189a81199ea",
       "version_major": 2,
       "version_minor": 0
      },
      "text/plain": [
       "Map(center=[52.96128429470282, 13.623740335494036], controls=(ZoomControl(options=['position', 'zoom_in_text',…"
      ]
     },
     "execution_count": 5,
     "metadata": {},
     "output_type": "execute_result"
    }
   ],
   "source": [
    "d.set_constraints()"
   ]
  },
  {
   "cell_type": "code",
   "execution_count": 6,
   "id": "fb9346e1-5840-4def-aa0c-294e05e550a4",
   "metadata": {},
   "outputs": [
    {
     "data": {
      "text/html": [
       "<div style=\"width:100%;\"><div style=\"position:relative;width:100%;height:0;padding-bottom:60%;\"><span style=\"color:#565656\">Make this Notebook Trusted to load map: File -> Trust Notebook</span><iframe srcdoc=\"&lt;!DOCTYPE html&gt;\n",
       "&lt;html&gt;\n",
       "&lt;head&gt;\n",
       "    \n",
       "    &lt;meta http-equiv=&quot;content-type&quot; content=&quot;text/html; charset=UTF-8&quot; /&gt;\n",
       "    \n",
       "        &lt;script&gt;\n",
       "            L_NO_TOUCH = false;\n",
       "            L_DISABLE_3D = false;\n",
       "        &lt;/script&gt;\n",
       "    \n",
       "    &lt;style&gt;html, body {width: 100%;height: 100%;margin: 0;padding: 0;}&lt;/style&gt;\n",
       "    &lt;style&gt;#map {position:absolute;top:0;bottom:0;right:0;left:0;}&lt;/style&gt;\n",
       "    &lt;script src=&quot;https://cdn.jsdelivr.net/npm/leaflet@1.9.3/dist/leaflet.js&quot;&gt;&lt;/script&gt;\n",
       "    &lt;script src=&quot;https://code.jquery.com/jquery-1.12.4.min.js&quot;&gt;&lt;/script&gt;\n",
       "    &lt;script src=&quot;https://cdn.jsdelivr.net/npm/bootstrap@5.2.2/dist/js/bootstrap.bundle.min.js&quot;&gt;&lt;/script&gt;\n",
       "    &lt;script src=&quot;https://cdnjs.cloudflare.com/ajax/libs/Leaflet.awesome-markers/2.0.2/leaflet.awesome-markers.js&quot;&gt;&lt;/script&gt;\n",
       "    &lt;link rel=&quot;stylesheet&quot; href=&quot;https://cdn.jsdelivr.net/npm/leaflet@1.9.3/dist/leaflet.css&quot;/&gt;\n",
       "    &lt;link rel=&quot;stylesheet&quot; href=&quot;https://cdn.jsdelivr.net/npm/bootstrap@5.2.2/dist/css/bootstrap.min.css&quot;/&gt;\n",
       "    &lt;link rel=&quot;stylesheet&quot; href=&quot;https://netdna.bootstrapcdn.com/bootstrap/3.0.0/css/bootstrap.min.css&quot;/&gt;\n",
       "    &lt;link rel=&quot;stylesheet&quot; href=&quot;https://cdn.jsdelivr.net/npm/@fortawesome/fontawesome-free@6.2.0/css/all.min.css&quot;/&gt;\n",
       "    &lt;link rel=&quot;stylesheet&quot; href=&quot;https://cdnjs.cloudflare.com/ajax/libs/Leaflet.awesome-markers/2.0.2/leaflet.awesome-markers.css&quot;/&gt;\n",
       "    &lt;link rel=&quot;stylesheet&quot; href=&quot;https://cdn.jsdelivr.net/gh/python-visualization/folium/folium/templates/leaflet.awesome.rotate.min.css&quot;/&gt;\n",
       "    \n",
       "            &lt;meta name=&quot;viewport&quot; content=&quot;width=device-width,\n",
       "                initial-scale=1.0, maximum-scale=1.0, user-scalable=no&quot; /&gt;\n",
       "            &lt;style&gt;\n",
       "                #map_bce80fd4bfde10fc459667530a72ff54 {\n",
       "                    position: relative;\n",
       "                    width: 100.0%;\n",
       "                    height: 100.0%;\n",
       "                    left: 0.0%;\n",
       "                    top: 0.0%;\n",
       "                }\n",
       "                .leaflet-container { font-size: 1rem; }\n",
       "            &lt;/style&gt;\n",
       "        \n",
       "    \n",
       "                    &lt;style&gt;\n",
       "                        .foliumtooltip {\n",
       "                            \n",
       "                        }\n",
       "                       .foliumtooltip table{\n",
       "                            margin: auto;\n",
       "                        }\n",
       "                        .foliumtooltip tr{\n",
       "                            text-align: left;\n",
       "                        }\n",
       "                        .foliumtooltip th{\n",
       "                            padding: 2px; padding-right: 8px;\n",
       "                        }\n",
       "                    &lt;/style&gt;\n",
       "            \n",
       "&lt;/head&gt;\n",
       "&lt;body&gt;\n",
       "    \n",
       "    \n",
       "            &lt;div class=&quot;folium-map&quot; id=&quot;map_bce80fd4bfde10fc459667530a72ff54&quot; &gt;&lt;/div&gt;\n",
       "        \n",
       "&lt;/body&gt;\n",
       "&lt;script&gt;\n",
       "    \n",
       "    \n",
       "            var map_bce80fd4bfde10fc459667530a72ff54 = L.map(\n",
       "                &quot;map_bce80fd4bfde10fc459667530a72ff54&quot;,\n",
       "                {\n",
       "                    center: [52.959722962828764, 13.620300499999999],\n",
       "                    crs: L.CRS.EPSG3857,\n",
       "                    zoom: 10,\n",
       "                    zoomControl: true,\n",
       "                    preferCanvas: false,\n",
       "                }\n",
       "            );\n",
       "            L.control.scale().addTo(map_bce80fd4bfde10fc459667530a72ff54);\n",
       "\n",
       "            \n",
       "\n",
       "        \n",
       "    \n",
       "            var tile_layer_a917ed9ca8d8317533b993c7830e7983 = L.tileLayer(\n",
       "                &quot;https://{s}.tile.openstreetmap.org/{z}/{x}/{y}.png&quot;,\n",
       "                {&quot;attribution&quot;: &quot;Data by \\u0026copy; \\u003ca target=\\&quot;_blank\\&quot; href=\\&quot;http://openstreetmap.org\\&quot;\\u003eOpenStreetMap\\u003c/a\\u003e, under \\u003ca target=\\&quot;_blank\\&quot; href=\\&quot;http://www.openstreetmap.org/copyright\\&quot;\\u003eODbL\\u003c/a\\u003e.&quot;, &quot;detectRetina&quot;: false, &quot;maxNativeZoom&quot;: 18, &quot;maxZoom&quot;: 18, &quot;minZoom&quot;: 0, &quot;noWrap&quot;: false, &quot;opacity&quot;: 1, &quot;subdomains&quot;: &quot;abc&quot;, &quot;tms&quot;: false}\n",
       "            ).addTo(map_bce80fd4bfde10fc459667530a72ff54);\n",
       "        \n",
       "    \n",
       "            map_bce80fd4bfde10fc459667530a72ff54.fitBounds(\n",
       "                [[52.94359, 13.571892], [52.97585592565753, 13.668709]],\n",
       "                {}\n",
       "            );\n",
       "        \n",
       "    \n",
       "        function geo_json_fe9aea2727b3adc745a4e583722c514a_styler(feature) {\n",
       "            switch(feature.id) {\n",
       "                default:\n",
       "                    return {&quot;fillOpacity&quot;: 0.5, &quot;weight&quot;: 2};\n",
       "            }\n",
       "        }\n",
       "        function geo_json_fe9aea2727b3adc745a4e583722c514a_highlighter(feature) {\n",
       "            switch(feature.id) {\n",
       "                default:\n",
       "                    return {&quot;fillOpacity&quot;: 0.75};\n",
       "            }\n",
       "        }\n",
       "        function geo_json_fe9aea2727b3adc745a4e583722c514a_pointToLayer(feature, latlng) {\n",
       "            var opts = {&quot;bubblingMouseEvents&quot;: true, &quot;color&quot;: &quot;#3388ff&quot;, &quot;dashArray&quot;: null, &quot;dashOffset&quot;: null, &quot;fill&quot;: true, &quot;fillColor&quot;: &quot;#3388ff&quot;, &quot;fillOpacity&quot;: 0.2, &quot;fillRule&quot;: &quot;evenodd&quot;, &quot;lineCap&quot;: &quot;round&quot;, &quot;lineJoin&quot;: &quot;round&quot;, &quot;opacity&quot;: 1.0, &quot;radius&quot;: 2, &quot;stroke&quot;: true, &quot;weight&quot;: 3};\n",
       "            \n",
       "            let style = geo_json_fe9aea2727b3adc745a4e583722c514a_styler(feature)\n",
       "            Object.assign(opts, style)\n",
       "            \n",
       "            return new L.CircleMarker(latlng, opts)\n",
       "        }\n",
       "\n",
       "        function geo_json_fe9aea2727b3adc745a4e583722c514a_onEachFeature(feature, layer) {\n",
       "            layer.on({\n",
       "                mouseout: function(e) {\n",
       "                    if(typeof e.target.setStyle === &quot;function&quot;){\n",
       "                        geo_json_fe9aea2727b3adc745a4e583722c514a.resetStyle(e.target);\n",
       "                    }\n",
       "                },\n",
       "                mouseover: function(e) {\n",
       "                    if(typeof e.target.setStyle === &quot;function&quot;){\n",
       "                        const highlightStyle = geo_json_fe9aea2727b3adc745a4e583722c514a_highlighter(e.target.feature)\n",
       "                        e.target.setStyle(highlightStyle);\n",
       "                    }\n",
       "                },\n",
       "            });\n",
       "        };\n",
       "        var geo_json_fe9aea2727b3adc745a4e583722c514a = L.geoJson(null, {\n",
       "                onEachFeature: geo_json_fe9aea2727b3adc745a4e583722c514a_onEachFeature,\n",
       "            \n",
       "                style: geo_json_fe9aea2727b3adc745a4e583722c514a_styler,\n",
       "                pointToLayer: geo_json_fe9aea2727b3adc745a4e583722c514a_pointToLayer\n",
       "        });\n",
       "\n",
       "        function geo_json_fe9aea2727b3adc745a4e583722c514a_add (data) {\n",
       "            geo_json_fe9aea2727b3adc745a4e583722c514a\n",
       "                .addData(data)\n",
       "                .addTo(map_bce80fd4bfde10fc459667530a72ff54);\n",
       "        }\n",
       "            geo_json_fe9aea2727b3adc745a4e583722c514a_add({&quot;bbox&quot;: [13.571892, 52.94359, 13.668709, 52.97585592565753], &quot;features&quot;: [{&quot;bbox&quot;: [13.571892, 52.94359, 13.668709, 52.97585592565753], &quot;geometry&quot;: {&quot;coordinates&quot;: [[[13.591118, 52.967376], [13.605709, 52.97093910529467], [13.605709, 52.965763], [13.610001, 52.966073], [13.607150524297076, 52.971291123857846], [13.625843495048972, 52.97585592565753], [13.62854, 52.974137], [13.657112722905348, 52.97488457162153], [13.668709, 52.953933], [13.571892, 52.94359], [13.591118, 52.967376]], [[13.621674, 52.960489], [13.622875, 52.967624], [13.614464, 52.96173], [13.621674, 52.960489]], [[13.600388, 52.953561], [13.591118, 52.956457], [13.589401, 52.95263], [13.600388, 52.953561]]], &quot;type&quot;: &quot;Polygon&quot;}, &quot;id&quot;: &quot;0&quot;, &quot;properties&quot;: {}, &quot;type&quot;: &quot;Feature&quot;}], &quot;type&quot;: &quot;FeatureCollection&quot;});\n",
       "\n",
       "        \n",
       "    \n",
       "    geo_json_fe9aea2727b3adc745a4e583722c514a.bindTooltip(\n",
       "    function(layer){\n",
       "    let div = L.DomUtil.create(&#x27;div&#x27;);\n",
       "    \n",
       "    return div\n",
       "    }\n",
       "    ,{&quot;className&quot;: &quot;foliumtooltip&quot;, &quot;sticky&quot;: true});\n",
       "                     \n",
       "&lt;/script&gt;\n",
       "&lt;/html&gt;\" style=\"position:absolute;width:100%;height:100%;left:0;top:0;border:none !important;\" allowfullscreen webkitallowfullscreen mozallowfullscreen></iframe></div></div>"
      ],
      "text/plain": [
       "<folium.folium.Map at 0x18e0e23dfd0>"
      ]
     },
     "execution_count": 6,
     "metadata": {},
     "output_type": "execute_result"
    }
   ],
   "source": [
    "constraints_polygons = [Polygon([tuple(pt) for pt in poly]) for poly in d.constraints]\n",
    "gdf_constraints = gpd.GeoDataFrame({'geometry': constraints_polygons}, crs=\"EPSG:4326\")\n",
    "\n",
    "coord_polygons = [Polygon([tuple(pt) for pt in poly]) for poly in d.coordinates]\n",
    "gdf_coord = gpd.GeoDataFrame({'geometry': coord_polygons}, crs=\"EPSG:4326\")\n",
    "\n",
    "gdf_available = gpd.overlay(gdf_coord, gdf_constraints, how=\"difference\")\n",
    "gdf_available.explore()"
   ]
  },
  {
   "cell_type": "code",
   "execution_count": 27,
   "id": "bc6b5c80-a243-4f21-b244-510cd0f1f7a5",
   "metadata": {},
   "outputs": [],
   "source": [
    "no_of_turbines = 20\n",
    "minx = gdf_available.bounds.minx\n",
    "miny = gdf_available.bounds.miny\n",
    "maxx = gdf_available.bounds.maxx\n",
    "maxy = gdf_available.bounds.maxy\n",
    "allocations = []\n",
    "\n",
    "# generate more points than needed, filter inside polygon\n",
    "while len(allocations) < no_of_turbines:\n",
    "    x = np.random.uniform(minx, maxx, no_of_turbines*2)\n",
    "    y = np.random.uniform(miny, maxy, no_of_turbines*2)\n",
    "    candidates = [Point(xi, yi) for xi, yi in zip(x, y)]\n",
    "    allocations.extend([p for p in candidates if gdf_available.contains(p).values[0]])\n",
    "    allocations = allocations[:no_of_turbines]  # keep only n_points\n"
   ]
  },
  {
   "cell_type": "code",
   "execution_count": 28,
   "id": "d80d4fc3-0096-4c0f-8f41-150ac9a1b11c",
   "metadata": {},
   "outputs": [
    {
     "data": {
      "text/plain": [
       "[<POINT (13.253 52.742)>,\n",
       " <POINT (12.175 52.449)>,\n",
       " <POINT (12.975 52.414)>,\n",
       " <POINT (13.207 52.782)>,\n",
       " <POINT (12.459 52.499)>,\n",
       " <POINT (12.403 52.257)>,\n",
       " <POINT (12.396 52.253)>,\n",
       " <POINT (12.866 52.396)>,\n",
       " <POINT (13.31 52.667)>,\n",
       " <POINT (12.424 52.238)>,\n",
       " <POINT (12.411 52.48)>,\n",
       " <POINT (12.711 52.37)>,\n",
       " <POINT (12.612 52.273)>,\n",
       " <POINT (13.08 52.604)>,\n",
       " <POINT (13.351 52.421)>,\n",
       " <POINT (13.282 52.571)>,\n",
       " <POINT (12.805 52.392)>,\n",
       " <POINT (13.085 52.351)>,\n",
       " <POINT (12.786 52.22)>,\n",
       " <POINT (12.788 52.564)>]"
      ]
     },
     "execution_count": 28,
     "metadata": {},
     "output_type": "execute_result"
    }
   ],
   "source": [
    "allocations"
   ]
  },
  {
   "cell_type": "code",
   "execution_count": 18,
   "id": "a8a06b5d-39a4-4148-92fd-672af1cabd8c",
   "metadata": {},
   "outputs": [],
   "source": [
    "import modeling\n",
    "dm = modeling.ModelData(d)\n",
    "\n"
   ]
  },
  {
   "cell_type": "code",
   "execution_count": 19,
   "id": "9d88f49c-6be1-4713-aecd-9d2c6d146875",
   "metadata": {},
   "outputs": [
    {
     "name": "stderr",
     "output_type": "stream",
     "text": [
      "N:\\dowf\\farmopt\\modeling.py:48: FutureWarning: A value is trying to be set on a copy of a DataFrame or Series through chained assignment using an inplace method.\n",
      "The behavior will change in pandas 3.0. This inplace method will never work because the intermediate object on which we are setting values always behaves as a copy.\n",
      "\n",
      "For example, when doing 'df[col].method(value, inplace=True)', try using 'df.method({col: value}, inplace=True)' or df[col] = df[col].method(value) instead, to perform the operation inplace on the original object.\n",
      "\n",
      "\n",
      "  df[\"wd\"].replace(360, 0, inplace = True)\n"
     ]
    },
    {
     "data": {
      "text/plain": [
       "<floris.wind_data.WindRose at 0x18e0e2c7570>"
      ]
     },
     "execution_count": 19,
     "metadata": {},
     "output_type": "execute_result"
    }
   ],
   "source": [
    "dm.wind_rose()"
   ]
  },
  {
   "cell_type": "code",
   "execution_count": 67,
   "id": "c1803132-88ec-4fff-a3ac-d483187ee820",
   "metadata": {},
   "outputs": [
    {
     "data": {
      "text/plain": [
       "<module 'allocator' from 'N:\\\\dowf\\\\farmopt\\\\allocator.py'>"
      ]
     },
     "execution_count": 67,
     "metadata": {},
     "output_type": "execute_result"
    }
   ],
   "source": [
    "import importlib\n",
    "importlib.reload(allocator)"
   ]
  },
  {
   "cell_type": "code",
   "execution_count": 22,
   "id": "94084e18-11ab-418e-924f-b73df8e6bb53",
   "metadata": {},
   "outputs": [],
   "source": [
    "fm = modeling.FarmModel(dm)\n"
   ]
  },
  {
   "cell_type": "code",
   "execution_count": 68,
   "id": "8e9dba90-0fbf-4241-a09d-01af38b97c8f",
   "metadata": {},
   "outputs": [],
   "source": [
    "al = allocator.Allocator(d, fm)"
   ]
  },
  {
   "cell_type": "code",
   "execution_count": 70,
   "id": "89710ecc-9dd4-42eb-9cfa-67fbbd5a1c66",
   "metadata": {},
   "outputs": [
    {
     "data": {
      "application/vnd.jupyter.widget-view+json": {
       "model_id": "46f444e4afb14d138ee461a73fdabf16",
       "version_major": 2,
       "version_minor": 0
      },
      "text/plain": [
       "Map(center=[52.96128429470282, 13.623740335494036], controls=(ZoomControl(options=['position', 'zoom_in_text',…"
      ]
     },
     "execution_count": 70,
     "metadata": {},
     "output_type": "execute_result"
    }
   ],
   "source": [
    "al.mapper()"
   ]
  },
  {
   "cell_type": "code",
   "execution_count": 71,
   "id": "2343db4b-038e-4438-96c9-7b7b648b0745",
   "metadata": {},
   "outputs": [],
   "source": [
    "al.start()"
   ]
  },
  {
   "cell_type": "code",
   "execution_count": null,
   "id": "f21164b6-21db-4cf4-aad7-ad53220d0a12",
   "metadata": {},
   "outputs": [],
   "source": []
  }
 ],
 "metadata": {
  "kernelspec": {
   "display_name": "Python (DoWF)",
   "language": "python",
   "name": "dowf"
  },
  "language_info": {
   "codemirror_mode": {
    "name": "ipython",
    "version": 3
   },
   "file_extension": ".py",
   "mimetype": "text/x-python",
   "name": "python",
   "nbconvert_exporter": "python",
   "pygments_lexer": "ipython3",
   "version": "3.13.5"
  }
 },
 "nbformat": 4,
 "nbformat_minor": 5
}
