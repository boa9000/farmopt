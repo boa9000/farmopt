{
 "cells": [
  {
   "cell_type": "markdown",
   "id": "1745a94f",
   "metadata": {},
   "source": [
    "# Interactive Map with Drawing Tools\n",
    "\n",
    "This notebook demonstrates how to create an interactive map using Folium, allowing users to draw shapes directly on the map. Drawn shapes can be retrieved and converted into GeoPandas/Shapely objects for further geospatial analysis."
   ]
  },
  {
   "cell_type": "code",
   "execution_count": 1,
   "id": "1eca31ee",
   "metadata": {},
   "outputs": [],
   "source": [
    "# Import Required Libraries\n",
    "import folium\n",
    "from folium.plugins import Draw\n",
    "import geopandas as gpd\n",
    "from shapely.geometry import shape\n",
    "import ipywidgets as widgets\n",
    "from IPython.display import display, Javascript, clear_output"
   ]
  },
  {
   "cell_type": "code",
   "execution_count": 3,
   "id": "95d40f65",
   "metadata": {},
   "outputs": [
    {
     "data": {
      "text/html": [
       "<div style=\"width:100%;\"><div style=\"position:relative;width:100%;height:0;padding-bottom:60%;\"><span style=\"color:#565656\">Make this Notebook Trusted to load map: File -> Trust Notebook</span><iframe srcdoc=\"&lt;!DOCTYPE html&gt;\n",
       "&lt;html&gt;\n",
       "&lt;head&gt;\n",
       "    \n",
       "    &lt;meta http-equiv=&quot;content-type&quot; content=&quot;text/html; charset=UTF-8&quot; /&gt;\n",
       "    \n",
       "        &lt;script&gt;\n",
       "            L_NO_TOUCH = false;\n",
       "            L_DISABLE_3D = false;\n",
       "        &lt;/script&gt;\n",
       "    \n",
       "    &lt;style&gt;html, body {width: 100%;height: 100%;margin: 0;padding: 0;}&lt;/style&gt;\n",
       "    &lt;style&gt;#map {position:absolute;top:0;bottom:0;right:0;left:0;}&lt;/style&gt;\n",
       "    &lt;script src=&quot;https://cdn.jsdelivr.net/npm/leaflet@1.9.3/dist/leaflet.js&quot;&gt;&lt;/script&gt;\n",
       "    &lt;script src=&quot;https://code.jquery.com/jquery-1.12.4.min.js&quot;&gt;&lt;/script&gt;\n",
       "    &lt;script src=&quot;https://cdn.jsdelivr.net/npm/bootstrap@5.2.2/dist/js/bootstrap.bundle.min.js&quot;&gt;&lt;/script&gt;\n",
       "    &lt;script src=&quot;https://cdnjs.cloudflare.com/ajax/libs/Leaflet.awesome-markers/2.0.2/leaflet.awesome-markers.js&quot;&gt;&lt;/script&gt;\n",
       "    &lt;link rel=&quot;stylesheet&quot; href=&quot;https://cdn.jsdelivr.net/npm/leaflet@1.9.3/dist/leaflet.css&quot;/&gt;\n",
       "    &lt;link rel=&quot;stylesheet&quot; href=&quot;https://cdn.jsdelivr.net/npm/bootstrap@5.2.2/dist/css/bootstrap.min.css&quot;/&gt;\n",
       "    &lt;link rel=&quot;stylesheet&quot; href=&quot;https://netdna.bootstrapcdn.com/bootstrap/3.0.0/css/bootstrap.min.css&quot;/&gt;\n",
       "    &lt;link rel=&quot;stylesheet&quot; href=&quot;https://cdn.jsdelivr.net/npm/@fortawesome/fontawesome-free@6.2.0/css/all.min.css&quot;/&gt;\n",
       "    &lt;link rel=&quot;stylesheet&quot; href=&quot;https://cdnjs.cloudflare.com/ajax/libs/Leaflet.awesome-markers/2.0.2/leaflet.awesome-markers.css&quot;/&gt;\n",
       "    &lt;link rel=&quot;stylesheet&quot; href=&quot;https://cdn.jsdelivr.net/gh/python-visualization/folium/folium/templates/leaflet.awesome.rotate.min.css&quot;/&gt;\n",
       "    \n",
       "            &lt;meta name=&quot;viewport&quot; content=&quot;width=device-width,\n",
       "                initial-scale=1.0, maximum-scale=1.0, user-scalable=no&quot; /&gt;\n",
       "            &lt;style&gt;\n",
       "                #map_f5ec6d76d11dddb7a16895af3941c501 {\n",
       "                    position: relative;\n",
       "                    width: 100.0%;\n",
       "                    height: 100.0%;\n",
       "                    left: 0.0%;\n",
       "                    top: 0.0%;\n",
       "                }\n",
       "                .leaflet-container { font-size: 1rem; }\n",
       "            &lt;/style&gt;\n",
       "        \n",
       "    &lt;script src=&quot;https://cdnjs.cloudflare.com/ajax/libs/leaflet.draw/1.0.2/leaflet.draw.js&quot;&gt;&lt;/script&gt;\n",
       "    &lt;link rel=&quot;stylesheet&quot; href=&quot;https://cdnjs.cloudflare.com/ajax/libs/leaflet.draw/1.0.2/leaflet.draw.css&quot;/&gt;\n",
       "    \n",
       "            &lt;style&gt;\n",
       "                #export {\n",
       "                    position: absolute;\n",
       "                    top: 5px;\n",
       "                    right: 10px;\n",
       "                    z-index: 999;\n",
       "                    background: white;\n",
       "                    color: black;\n",
       "                    padding: 6px;\n",
       "                    border-radius: 4px;\n",
       "                    font-family: &#x27;Helvetica Neue&#x27;;\n",
       "                    cursor: pointer;\n",
       "                    font-size: 12px;\n",
       "                    text-decoration: none;\n",
       "                    top: 90px;\n",
       "                }\n",
       "            &lt;/style&gt;\n",
       "        \n",
       "&lt;/head&gt;\n",
       "&lt;body&gt;\n",
       "    \n",
       "    \n",
       "            &lt;div class=&quot;folium-map&quot; id=&quot;map_f5ec6d76d11dddb7a16895af3941c501&quot; &gt;&lt;/div&gt;\n",
       "        \n",
       "    &lt;a href=&#x27;#&#x27; id=&#x27;export&#x27;&gt;Export&lt;/a&gt;\n",
       "&lt;/body&gt;\n",
       "&lt;script&gt;\n",
       "    \n",
       "    \n",
       "            var map_f5ec6d76d11dddb7a16895af3941c501 = L.map(\n",
       "                &quot;map_f5ec6d76d11dddb7a16895af3941c501&quot;,\n",
       "                {\n",
       "                    center: [55.6761, 12.5683],\n",
       "                    crs: L.CRS.EPSG3857,\n",
       "                    zoom: 6,\n",
       "                    zoomControl: true,\n",
       "                    preferCanvas: false,\n",
       "                }\n",
       "            );\n",
       "\n",
       "            \n",
       "\n",
       "        \n",
       "    \n",
       "            var tile_layer_56c323252c63a463beb4d69b673aa8cd = L.tileLayer(\n",
       "                &quot;https://{s}.tile.openstreetmap.org/{z}/{x}/{y}.png&quot;,\n",
       "                {&quot;attribution&quot;: &quot;Data by \\u0026copy; \\u003ca target=\\&quot;_blank\\&quot; href=\\&quot;http://openstreetmap.org\\&quot;\\u003eOpenStreetMap\\u003c/a\\u003e, under \\u003ca target=\\&quot;_blank\\&quot; href=\\&quot;http://www.openstreetmap.org/copyright\\&quot;\\u003eODbL\\u003c/a\\u003e.&quot;, &quot;detectRetina&quot;: false, &quot;maxNativeZoom&quot;: 18, &quot;maxZoom&quot;: 18, &quot;minZoom&quot;: 0, &quot;noWrap&quot;: false, &quot;opacity&quot;: 1, &quot;subdomains&quot;: &quot;abc&quot;, &quot;tms&quot;: false}\n",
       "            ).addTo(map_f5ec6d76d11dddb7a16895af3941c501);\n",
       "        \n",
       "    \n",
       "            var options = {\n",
       "              position: &quot;topleft&quot;,\n",
       "              draw: {},\n",
       "              edit: {},\n",
       "            }\n",
       "            // FeatureGroup is to store editable layers.\n",
       "            var drawnItems = new L.featureGroup().addTo(\n",
       "                map_f5ec6d76d11dddb7a16895af3941c501\n",
       "            );\n",
       "            options.edit.featureGroup = drawnItems;\n",
       "            var draw_control_0b2147ce644e85d21a5d95ff212b8fbd = new L.Control.Draw(\n",
       "                options\n",
       "            ).addTo( map_f5ec6d76d11dddb7a16895af3941c501 );\n",
       "            map_f5ec6d76d11dddb7a16895af3941c501.on(L.Draw.Event.CREATED, function(e) {\n",
       "                var layer = e.layer,\n",
       "                    type = e.layerType;\n",
       "                var coords = JSON.stringify(layer.toGeoJSON());\n",
       "                layer.on(&#x27;click&#x27;, function() {\n",
       "                    alert(coords);\n",
       "                    console.log(coords);\n",
       "                });\n",
       "                drawnItems.addLayer(layer);\n",
       "             });\n",
       "            map_f5ec6d76d11dddb7a16895af3941c501.on(&#x27;draw:created&#x27;, function(e) {\n",
       "                drawnItems.addLayer(e.layer);\n",
       "            });\n",
       "            \n",
       "            document.getElementById(&#x27;export&#x27;).onclick = function(e) {\n",
       "                var data = drawnItems.toGeoJSON();\n",
       "                var convertedData = &#x27;text/json;charset=utf-8,&#x27;\n",
       "                    + encodeURIComponent(JSON.stringify(data));\n",
       "                document.getElementById(&#x27;export&#x27;).setAttribute(\n",
       "                    &#x27;href&#x27;, &#x27;data:&#x27; + convertedData\n",
       "                );\n",
       "                document.getElementById(&#x27;export&#x27;).setAttribute(\n",
       "                    &#x27;download&#x27;, &quot;data.geojson&quot;\n",
       "                );\n",
       "            }\n",
       "            \n",
       "        \n",
       "&lt;/script&gt;\n",
       "&lt;/html&gt;\" style=\"position:absolute;width:100%;height:100%;left:0;top:0;border:none !important;\" allowfullscreen webkitallowfullscreen mozallowfullscreen></iframe></div></div>"
      ],
      "text/plain": [
       "<folium.folium.Map at 0x20817659550>"
      ]
     },
     "execution_count": 3,
     "metadata": {},
     "output_type": "execute_result"
    }
   ],
   "source": [
    "# Create and display a Folium map with drawing tools\n",
    "m = folium.Map(location=[55.6761, 12.5683], zoom_start=6)  # Centered on Denmark\n",
    "Draw(export=True).add_to(m)\n",
    "m"
   ]
  },
  {
   "cell_type": "markdown",
   "id": "303be508",
   "metadata": {},
   "source": [
    "## Instructions\n",
    "- Use the drawing tools on the map to create polygons, rectangles, or other shapes.\n",
    "- Click the 'Export' button to download the drawn shapes as a GeoJSON file.\n",
    "- The next cell will show how to load the exported GeoJSON and convert it to GeoPandas/Shapely objects."
   ]
  },
  {
   "cell_type": "code",
   "execution_count": null,
   "id": "5e77b850",
   "metadata": {},
   "outputs": [],
   "source": [
    "# Load exported GeoJSON and convert to GeoPandas/Shapely objects\n",
    "import json\n",
    "from shapely.geometry import shape\n",
    "import geopandas as gpd\n",
    "\n",
    "# Upload the exported GeoJSON file\n",
    "uploader = widgets.FileUpload(accept='.geojson', multiple=False)\n",
    "display(uploader)\n",
    "\n",
    "# Function to process uploaded file\n",
    "def process_geojson(uploaded):\n",
    "    if uploaded.value:\n",
    "        content = list(uploaded.value.values())[0]['content']\n",
    "        geojson_data = json.loads(content.decode())\n",
    "        # Convert to GeoPandas GeoDataFrame\n",
    "        gdf = gpd.GeoDataFrame.from_features(geojson_data['features'])\n",
    "        print('GeoDataFrame:')\n",
    "        display(gdf)\n",
    "        # Convert to Shapely geometries\n",
    "        geometries = [shape(feature['geometry']) for feature in geojson_data['features']]\n",
    "        print('Shapely Geometries:')\n",
    "        for geom in geometries:\n",
    "            print(geom)\n",
    "\n",
    "uploader.observe(lambda change: process_geojson(uploader), names='value')"
   ]
  },
  {
   "cell_type": "code",
   "execution_count": 2,
   "id": "84284e11",
   "metadata": {},
   "outputs": [
    {
     "data": {
      "application/vnd.jupyter.widget-view+json": {
       "model_id": "40c77a6b466543a1a3173b8f729d42c0",
       "version_major": 2,
       "version_minor": 0
      },
      "text/plain": [
       "Output()"
      ]
     },
     "metadata": {},
     "output_type": "display_data"
    },
    {
     "data": {
      "application/javascript": "\nrequire(['base/js/namespace'], function(Jupyter) {\n    var mapFrame = document.querySelector('iframe');\n    if (!mapFrame) return;\n    var mapDoc = mapFrame.contentDocument || mapFrame.contentWindow.document;\n    var exportBtn = mapDoc.querySelector('.leaflet-draw-toolbar a[title=\"Export\"]');\n    if (!exportBtn) return;\n    exportBtn.addEventListener('click', function() {\n        setTimeout(function() {\n            var geojsonText = '';\n            var links = mapDoc.querySelectorAll('a');\n            links.forEach(function(link) {\n                if (link.download && link.download.endsWith('.geojson')) {\n                    fetch(link.href)\n                        .then(response => response.text())\n                        .then(text => {\n                            geojsonText = text.replace(/`/g, '\\`');\n                            var pyCode = `geojson_data = '''${geojsonText}'''\nwith open(r\"n:\\dowf\\drawn_shapes.geojson\", \"w\") as f:\n    f.write(geojson_data)\nprint('GeoJSON saved to: n:\\dowf\\drawn_shapes.geojson')`;\n                            Jupyter.notebook.kernel.execute(pyCode);\n                        });\n                }\n            });\n        }, 1000);\n    });\n});\n",
      "text/plain": [
       "<IPython.core.display.Javascript object>"
      ]
     },
     "metadata": {},
     "output_type": "display_data"
    },
    {
     "name": "stdout",
     "output_type": "stream",
     "text": [
      "When you click 'Export' on the map, the GeoJSON will be saved to: n:\\dowf\\drawn_shapes.geojson\n"
     ]
    }
   ],
   "source": [
    "# Automatically save drawn shapes from Folium map to work folder\n",
    "import os\n",
    "from IPython.display import Javascript, display\n",
    "import ipywidgets as widgets\n",
    "\n",
    "save_path = os.path.join(os.getcwd(), 'drawn_shapes.geojson')\n",
    "output = widgets.Output()\n",
    "display(output)\n",
    "\n",
    "js_code = f\"\"\"\n",
    "require(['base/js/namespace'], function(Jupyter) {{\n",
    "    var mapFrame = document.querySelector('iframe');\n",
    "    if (!mapFrame) return;\n",
    "    var mapDoc = mapFrame.contentDocument || mapFrame.contentWindow.document;\n",
    "    var exportBtn = mapDoc.querySelector('.leaflet-draw-toolbar a[title=\"Export\"]');\n",
    "    if (!exportBtn) return;\n",
    "    exportBtn.addEventListener('click', function() {{\n",
    "        setTimeout(function() {{\n",
    "            var geojsonText = '';\n",
    "            var links = mapDoc.querySelectorAll('a');\n",
    "            links.forEach(function(link) {{\n",
    "                if (link.download && link.download.endsWith('.geojson')) {{\n",
    "                    fetch(link.href)\n",
    "                        .then(response => response.text())\n",
    "                        .then(text => {{\n",
    "                            geojsonText = text.replace(/`/g, '\\\\`');\n",
    "                            var pyCode = `geojson_data = '''${{geojsonText}}'''\n",
    "with open(r\\\"{save_path}\\\", \\\"w\\\") as f:\n",
    "    f.write(geojson_data)\n",
    "print('GeoJSON saved to: {save_path}')`;\n",
    "                            Jupyter.notebook.kernel.execute(pyCode);\n",
    "                        }});\n",
    "                }}\n",
    "            }});\n",
    "        }}, 1000);\n",
    "    }});\n",
    "}});\n",
    "\"\"\"\n",
    "display(Javascript(js_code))\n",
    "\n",
    "print(f\"When you click 'Export' on the map, the GeoJSON will be saved to: {save_path}\")"
   ]
  },
  {
   "cell_type": "code",
   "execution_count": null,
   "id": "5275c1cc",
   "metadata": {},
   "outputs": [],
   "source": []
  },
  {
   "cell_type": "code",
   "execution_count": 1,
   "id": "6f038cbc",
   "metadata": {},
   "outputs": [
    {
     "data": {
      "application/vnd.jupyter.widget-view+json": {
       "model_id": "58ffe686c8964c92b5fabbb1c3c0f867",
       "version_major": 2,
       "version_minor": 0
      },
      "text/plain": [
       "Map(center=[55.6761, 12.5683], controls=(ZoomControl(options=['position', 'zoom_in_text', 'zoom_in_title', 'zo…"
      ]
     },
     "metadata": {},
     "output_type": "display_data"
    }
   ],
   "source": [
    "# Interactive drawing with ipyleaflet and direct GeoJSON access\n",
    "from ipyleaflet import Map, DrawControl\n",
    "import geopandas as gpd\n",
    "from shapely.geometry import shape\n",
    "import json\n",
    "import os\n",
    "\n",
    "# Create map centered on Denmark\n",
    "m = Map(center=(55.6761, 12.5683), zoom=6)\n",
    "draw_control = DrawControl()\n",
    "m.add_control(draw_control)\n",
    "display(m)\n",
    "\n",
    "# Container for drawn features\n",
    "drawn_features = []\n",
    "\n",
    "def handle_draw(target, action, geo_json):\n",
    "    print(f\"Action: {action}\")\n",
    "    print(f\"GeoJSON: {geo_json}\")\n",
    "    drawn_features.append(geo_json)\n",
    "    # Save to file automatically\n",
    "    save_path = os.path.join(os.getcwd(), 'drawn_shapes_ipyleaflet.geojson')\n",
    "    with open(save_path, 'w') as f:\n",
    "        json.dump({'type': 'FeatureCollection', 'features': drawn_features}, f)\n",
    "    print(f\"Saved to {save_path}\")\n",
    "    # Convert to GeoPandas\n",
    "    gdf = gpd.GeoDataFrame.from_features(drawn_features)\n",
    "    display(gdf)\n",
    "    # Convert to Shapely geometries\n",
    "    geometries = [shape(feature['geometry']) for feature in drawn_features]\n",
    "    print('Shapely Geometries:')\n",
    "    for geom in geometries:\n",
    "        print(geom)\n",
    "\n",
    "draw_control.on_draw(handle_draw)"
   ]
  },
  {
   "cell_type": "code",
   "execution_count": 2,
   "id": "ff92228b",
   "metadata": {},
   "outputs": [
    {
     "name": "stderr",
     "output_type": "stream",
     "text": [
      "C:\\Users\\ge94faj\\AppData\\Local\\Temp\\ipykernel_21868\\1311618427.py:2: DeprecationWarning: Widget.widget_types is deprecated.\n",
      "  widgets.Widget.widget_types\n"
     ]
    },
    {
     "data": {
      "text/plain": [
       "<ipywidgets.widgets.widget.WidgetRegistry at 0x194c84b4ad0>"
      ]
     },
     "execution_count": 2,
     "metadata": {},
     "output_type": "execute_result"
    }
   ],
   "source": [
    "import ipywidgets as widgets\n",
    "widgets.Widget.widget_types"
   ]
  },
  {
   "cell_type": "code",
   "execution_count": null,
   "id": "f57440fa",
   "metadata": {},
   "outputs": [],
   "source": []
  },
  {
   "cell_type": "code",
   "execution_count": null,
   "id": "285857ac",
   "metadata": {},
   "outputs": [],
   "source": [
    "# Interactive display of GeoDataFrame\n",
    "gdf = None\n",
    "try:\n",
    "    import geopandas as gpd\n",
    "    gdf = gpd.read_file('drawn_shapes_ipyleaflet.geojson')\n",
    "    try:\n",
    "        import qgrid\n",
    "        qgrid_widget = qgrid.show_grid(gdf, show_toolbar=True)\n",
    "        display(qgrid_widget)\n",
    "    except ImportError:\n",
    "        print('qgrid not installed, showing standard table.')\n",
    "        display(gdf)\n",
    "except Exception as e:\n",
    "    print('Error loading GeoDataFrame:', e)"
   ]
  },
  {
   "cell_type": "code",
   "execution_count": null,
   "id": "d8f68c52",
   "metadata": {},
   "outputs": [],
   "source": [
    "# Correct qgrid usage for interactive GeoDataFrame display\n",
    "!pip install qgrid --quiet\n",
    "import geopandas as gpd\n",
    "import qgrid\n",
    "qgrid_widget = None\n",
    "try:\n",
    "    gdf = gpd.read_file('drawn_shapes_ipyleaflet.geojson')\n",
    "    qgrid_widget = qgrid.QgridWidget(df=gdf, show_toolbar=True)\n",
    "    display(qgrid_widget)\n",
    "except Exception as e:\n",
    "    print('Error displaying interactive GeoDataFrame:', e)\n",
    "    if 'gdf' in locals():\n",
    "        display(gdf)"
   ]
  },
  {
   "cell_type": "code",
   "execution_count": 3,
   "id": "cec7fc7f",
   "metadata": {},
   "outputs": [
    {
     "name": "stdout",
     "output_type": "stream",
     "text": [
      "Error displaying interactive map: drawn_shapes_ipyleaflet.geojson: No such file or directory\n"
     ]
    }
   ],
   "source": [
    "# Interactive map display of GeoDataFrame using gdf.explore()\n",
    "import geopandas as gpd\n",
    "try:\n",
    "    gdf = gpd.read_file('drawn_shapes_ipyleaflet.geojson')\n",
    "    m = gdf.explore()\n",
    "    display(m)\n",
    "except Exception as e:\n",
    "    print('Error displaying interactive map:', e)"
   ]
  },
  {
   "cell_type": "code",
   "execution_count": null,
   "id": "32b6bac2",
   "metadata": {},
   "outputs": [],
   "source": []
  },
  {
   "cell_type": "code",
   "execution_count": null,
   "id": "7f4866f8",
   "metadata": {},
   "outputs": [],
   "source": [
    "# Robust interactive map display of GeoDataFrame using gdf.explore()\n",
    "import geopandas as gpd\n",
    "try:\n",
    "    gdf = gpd.read_file('drawn_shapes_ipyleaflet.geojson')\n",
    "    # Remove any style argument, just use defaults\n",
    "    m = gdf.explore()\n",
    "    display(m)\n",
    "    print('If you see an empty map, check that your GeoJSON contains valid geometries.')\n",
    "except Exception as e:\n",
    "    print('Error displaying interactive map:', e)\n",
    "    if 'gdf' in locals():\n",
    "        print('GeoDataFrame columns:', gdf.columns)\n",
    "        display(gdf)"
   ]
  },
  {
   "cell_type": "code",
   "execution_count": null,
   "id": "4ecbaaaa",
   "metadata": {},
   "outputs": [],
   "source": [
    "# Add markers to a Folium map in a for loop and display it\n",
    "import folium\n",
    "\n",
    "# Example coordinates for markers\n",
    "marker_coords = [\n",
    "    (52.789, 12.129),\n",
    "    (53.199, 14.678),\n",
    "    (51.686, 13.733),\n",
    "    (52.5, 13.0)\n",
    "]\n",
    "\n",
    "# Create map centered on average location\n",
    "center_lat = sum([lat for lat, lon in marker_coords]) / len(marker_coords)\n",
    "center_lon = sum([lon for lat, lon in marker_coords]) / len(marker_coords)\n",
    "m = folium.Map(location=[center_lat, center_lon], zoom_start=7)\n",
    "\n",
    "# Add markers in a for loop\n",
    "for lat, lon in marker_coords:\n",
    "    folium.Marker(location=[lat, lon]).add_to(m)\n",
    "\n",
    "# Display the map\n",
    "m"
   ]
  },
  {
   "cell_type": "code",
   "execution_count": null,
   "id": "f0b68eb8",
   "metadata": {},
   "outputs": [],
   "source": [
    "# Dynamically update 5 random markers on a map using ipyleaflet\n",
    "import random\n",
    "import time\n",
    "from ipyleaflet import Map, Marker, LayerGroup\n",
    "from IPython.display import display, clear_output\n",
    "\n",
    "# Define bounds for random coordinates (e.g., within Denmark)\n",
    "lat_min, lat_max = 54.5, 57.8\n",
    "lon_min, lon_max = 8.0, 12.7\n",
    "\n",
    "# Create map centered on Denmark\n",
    "center_lat = (lat_min + lat_max) / 2\n",
    "center_lon = (lon_min + lon_max) / 2\n",
    "m = Map(center=(center_lat, center_lon), zoom=6)\n",
    "display(m)\n",
    "\n",
    "layer_group = LayerGroup()\n",
    "m.add_layer(layer_group)\n",
    "\n",
    "def random_coords(n):\n",
    "    return [(random.uniform(lat_min, lat_max), random.uniform(lon_min, lon_max)) for _ in range(n)]\n",
    "\n",
    "for _ in range(10):  # Update 10 times as a demo\n",
    "    layer_group.clear_layers()\n",
    "    coords = random_coords(5)\n",
    "    for lat, lon in coords:\n",
    "        marker = Marker(location=(lat, lon))\n",
    "        layer_group.add_layer(marker)\n",
    "    time.sleep(1)  # Wait 1 second before updating"
   ]
  }
 ],
 "metadata": {
  "kernelspec": {
   "display_name": "dowf",
   "language": "python",
   "name": "python3"
  },
  "language_info": {
   "codemirror_mode": {
    "name": "ipython",
    "version": 3
   },
   "file_extension": ".py",
   "mimetype": "text/x-python",
   "name": "python",
   "nbconvert_exporter": "python",
   "pygments_lexer": "ipython3",
   "version": "3.13.5"
  }
 },
 "nbformat": 4,
 "nbformat_minor": 5
}
